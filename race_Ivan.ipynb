{
 "cells": [
  {
   "cell_type": "markdown",
   "metadata": {},
   "source": [
    "# Zodiac Race"
   ]
  },
  {
   "cell_type": "markdown",
   "metadata": {},
   "source": [
    "## Initial setup"
   ]
  },
  {
   "cell_type": "code",
   "execution_count": 106,
   "metadata": {
    "_uuid": "ba44df08389a6574049bb67a7e0b9cda80b4ee3c",
    "collapsed": true
   },
   "outputs": [],
   "source": [
    "#Import the relevant libraries\n",
    "import pickle\n",
    "import pandas as pd\n",
    "import numpy as np\n",
    "import matplotlib.pyplot as plt\n",
    "%matplotlib inline"
   ]
  },
  {
   "cell_type": "markdown",
   "metadata": {},
   "source": [
    "## Read the files\n",
    "\n",
    "First, we import the csv file and determine the column that contains 'ABCDE'"
   ]
  },
  {
   "cell_type": "code",
   "execution_count": 107,
   "metadata": {
    "_uuid": "ba44df08389a6574049bb67a7e0b9cda80b4ee3c",
    "collapsed": true
   },
   "outputs": [],
   "source": [
    "#Import csv files\n",
    "z_file = \"./The_Zodiac_Race_Challenge_Dataset.csv\"\n",
    "z_df = pd.read_csv(z_file)"
   ]
  },
  {
   "cell_type": "code",
   "execution_count": 108,
   "metadata": {},
   "outputs": [
    {
     "data": {
      "text/html": [
       "<div>\n",
       "<style scoped>\n",
       "    .dataframe tbody tr th:only-of-type {\n",
       "        vertical-align: middle;\n",
       "    }\n",
       "\n",
       "    .dataframe tbody tr th {\n",
       "        vertical-align: top;\n",
       "    }\n",
       "\n",
       "    .dataframe thead th {\n",
       "        text-align: right;\n",
       "    }\n",
       "</style>\n",
       "<table border=\"1\" class=\"dataframe\">\n",
       "  <thead>\n",
       "    <tr style=\"text-align: right;\">\n",
       "      <th></th>\n",
       "      <th>Desert</th>\n",
       "      <th>Mountain</th>\n",
       "      <th>Water</th>\n",
       "      <th>Land</th>\n",
       "      <th>Forest</th>\n",
       "      <th>Snow</th>\n",
       "      <th>Average_Temperature</th>\n",
       "      <th>Is_Raining</th>\n",
       "      <th>Had_A_Good_Sleep</th>\n",
       "      <th>Winner</th>\n",
       "      <th>Winner_Time</th>\n",
       "      <th>Second</th>\n",
       "      <th>Second_Time</th>\n",
       "      <th>Third</th>\n",
       "      <th>Third_Time</th>\n",
       "    </tr>\n",
       "  </thead>\n",
       "  <tbody>\n",
       "    <tr>\n",
       "      <th>0</th>\n",
       "      <td>7376</td>\n",
       "      <td>4387</td>\n",
       "      <td>7769</td>\n",
       "      <td>7374</td>\n",
       "      <td>814</td>\n",
       "      <td>2677</td>\n",
       "      <td>18</td>\n",
       "      <td>Yes</td>\n",
       "      <td>Yes</td>\n",
       "      <td>rat</td>\n",
       "      <td>218</td>\n",
       "      <td>dog</td>\n",
       "      <td>242</td>\n",
       "      <td>dragon</td>\n",
       "      <td>245</td>\n",
       "    </tr>\n",
       "    <tr>\n",
       "      <th>1</th>\n",
       "      <td>7911</td>\n",
       "      <td>5771</td>\n",
       "      <td>4993</td>\n",
       "      <td>1855</td>\n",
       "      <td>9605</td>\n",
       "      <td>283</td>\n",
       "      <td>18</td>\n",
       "      <td>Yes</td>\n",
       "      <td>Yes</td>\n",
       "      <td>tiger</td>\n",
       "      <td>216</td>\n",
       "      <td>snake</td>\n",
       "      <td>224</td>\n",
       "      <td>rat</td>\n",
       "      <td>239</td>\n",
       "    </tr>\n",
       "    <tr>\n",
       "      <th>2</th>\n",
       "      <td>8948</td>\n",
       "      <td>9631</td>\n",
       "      <td>1855</td>\n",
       "      <td>4913</td>\n",
       "      <td>3531</td>\n",
       "      <td>3746</td>\n",
       "      <td>39</td>\n",
       "      <td>Yes</td>\n",
       "      <td>No</td>\n",
       "      <td>ox</td>\n",
       "      <td>191</td>\n",
       "      <td>rabbit</td>\n",
       "      <td>217</td>\n",
       "      <td>horse</td>\n",
       "      <td>240</td>\n",
       "    </tr>\n",
       "    <tr>\n",
       "      <th>3</th>\n",
       "      <td>1735</td>\n",
       "      <td>6643</td>\n",
       "      <td>6066</td>\n",
       "      <td>9976</td>\n",
       "      <td>9119</td>\n",
       "      <td>9912</td>\n",
       "      <td>24</td>\n",
       "      <td>Yes</td>\n",
       "      <td>No</td>\n",
       "      <td>goat</td>\n",
       "      <td>319</td>\n",
       "      <td>rooster</td>\n",
       "      <td>322</td>\n",
       "      <td>horse</td>\n",
       "      <td>334</td>\n",
       "    </tr>\n",
       "    <tr>\n",
       "      <th>4</th>\n",
       "      <td>2001</td>\n",
       "      <td>8287</td>\n",
       "      <td>4062</td>\n",
       "      <td>8763</td>\n",
       "      <td>9751</td>\n",
       "      <td>2820</td>\n",
       "      <td>26</td>\n",
       "      <td>Yes</td>\n",
       "      <td>Yes</td>\n",
       "      <td>horse</td>\n",
       "      <td>255</td>\n",
       "      <td>goat</td>\n",
       "      <td>259</td>\n",
       "      <td>rooster</td>\n",
       "      <td>263</td>\n",
       "    </tr>\n",
       "  </tbody>\n",
       "</table>\n",
       "</div>"
      ],
      "text/plain": [
       "   Desert  Mountain  Water  Land  Forest  Snow  Average_Temperature  \\\n",
       "0    7376      4387   7769  7374     814  2677                   18   \n",
       "1    7911      5771   4993  1855    9605   283                   18   \n",
       "2    8948      9631   1855  4913    3531  3746                   39   \n",
       "3    1735      6643   6066  9976    9119  9912                   24   \n",
       "4    2001      8287   4062  8763    9751  2820                   26   \n",
       "\n",
       "  Is_Raining Had_A_Good_Sleep Winner  Winner_Time   Second  Second_Time  \\\n",
       "0        Yes              Yes    rat          218      dog          242   \n",
       "1        Yes              Yes  tiger          216    snake          224   \n",
       "2        Yes               No     ox          191   rabbit          217   \n",
       "3        Yes               No   goat          319  rooster          322   \n",
       "4        Yes              Yes  horse          255     goat          259   \n",
       "\n",
       "     Third  Third_Time  \n",
       "0   dragon         245  \n",
       "1      rat         239  \n",
       "2    horse         240  \n",
       "3    horse         334  \n",
       "4  rooster         263  "
      ]
     },
     "execution_count": 108,
     "metadata": {},
     "output_type": "execute_result"
    }
   ],
   "source": [
    "z_df.head()"
   ]
  },
  {
   "cell_type": "code",
   "execution_count": 109,
   "metadata": {
    "scrolled": true
   },
   "outputs": [
    {
     "name": "stdout",
     "output_type": "stream",
     "text": [
      "['Had_A_Good_Sleep']\n"
     ]
    },
    {
     "name": "stderr",
     "output_type": "stream",
     "text": [
      "/Users/Ivan/anaconda2/envs/mypython3/lib/python3.6/site-packages/ipykernel_launcher.py:2: FutureWarning: elementwise comparison failed; returning scalar instead, but in the future will perform elementwise comparison\n",
      "  \n"
     ]
    }
   ],
   "source": [
    "# Find column that contains'ABCDE'\n",
    "bad_cols = [col for col in z_df.columns if 'ABCDE' in z_df[col].values]\n",
    "print(bad_cols)"
   ]
  },
  {
   "cell_type": "code",
   "execution_count": 110,
   "metadata": {
    "_uuid": "ba44df08389a6574049bb67a7e0b9cda80b4ee3c",
    "collapsed": true
   },
   "outputs": [],
   "source": [
    "# Remove bad col\n",
    "z_df.drop(bad_cols, axis=1, inplace=True)"
   ]
  },
  {
   "cell_type": "code",
   "execution_count": 111,
   "metadata": {
    "_uuid": "ba44df08389a6574049bb67a7e0b9cda80b4ee3c",
    "collapsed": true
   },
   "outputs": [],
   "source": [
    "# Separate input variables (X) from output variables (Y) \n",
    "\n",
    "X = z_df.iloc[:, :8]\n",
    "Y = z_df.iloc[:, 8:]"
   ]
  },
  {
   "cell_type": "code",
   "execution_count": 112,
   "metadata": {},
   "outputs": [
    {
     "data": {
      "text/html": [
       "<div>\n",
       "<style scoped>\n",
       "    .dataframe tbody tr th:only-of-type {\n",
       "        vertical-align: middle;\n",
       "    }\n",
       "\n",
       "    .dataframe tbody tr th {\n",
       "        vertical-align: top;\n",
       "    }\n",
       "\n",
       "    .dataframe thead th {\n",
       "        text-align: right;\n",
       "    }\n",
       "</style>\n",
       "<table border=\"1\" class=\"dataframe\">\n",
       "  <thead>\n",
       "    <tr style=\"text-align: right;\">\n",
       "      <th></th>\n",
       "      <th>Desert</th>\n",
       "      <th>Mountain</th>\n",
       "      <th>Water</th>\n",
       "      <th>Land</th>\n",
       "      <th>Forest</th>\n",
       "      <th>Snow</th>\n",
       "      <th>Average_Temperature</th>\n",
       "      <th>Is_Raining</th>\n",
       "    </tr>\n",
       "  </thead>\n",
       "  <tbody>\n",
       "    <tr>\n",
       "      <th>0</th>\n",
       "      <td>7376</td>\n",
       "      <td>4387</td>\n",
       "      <td>7769</td>\n",
       "      <td>7374</td>\n",
       "      <td>814</td>\n",
       "      <td>2677</td>\n",
       "      <td>18</td>\n",
       "      <td>Yes</td>\n",
       "    </tr>\n",
       "    <tr>\n",
       "      <th>1</th>\n",
       "      <td>7911</td>\n",
       "      <td>5771</td>\n",
       "      <td>4993</td>\n",
       "      <td>1855</td>\n",
       "      <td>9605</td>\n",
       "      <td>283</td>\n",
       "      <td>18</td>\n",
       "      <td>Yes</td>\n",
       "    </tr>\n",
       "    <tr>\n",
       "      <th>2</th>\n",
       "      <td>8948</td>\n",
       "      <td>9631</td>\n",
       "      <td>1855</td>\n",
       "      <td>4913</td>\n",
       "      <td>3531</td>\n",
       "      <td>3746</td>\n",
       "      <td>39</td>\n",
       "      <td>Yes</td>\n",
       "    </tr>\n",
       "    <tr>\n",
       "      <th>3</th>\n",
       "      <td>1735</td>\n",
       "      <td>6643</td>\n",
       "      <td>6066</td>\n",
       "      <td>9976</td>\n",
       "      <td>9119</td>\n",
       "      <td>9912</td>\n",
       "      <td>24</td>\n",
       "      <td>Yes</td>\n",
       "    </tr>\n",
       "    <tr>\n",
       "      <th>4</th>\n",
       "      <td>2001</td>\n",
       "      <td>8287</td>\n",
       "      <td>4062</td>\n",
       "      <td>8763</td>\n",
       "      <td>9751</td>\n",
       "      <td>2820</td>\n",
       "      <td>26</td>\n",
       "      <td>Yes</td>\n",
       "    </tr>\n",
       "  </tbody>\n",
       "</table>\n",
       "</div>"
      ],
      "text/plain": [
       "   Desert  Mountain  Water  Land  Forest  Snow  Average_Temperature Is_Raining\n",
       "0    7376      4387   7769  7374     814  2677                   18        Yes\n",
       "1    7911      5771   4993  1855    9605   283                   18        Yes\n",
       "2    8948      9631   1855  4913    3531  3746                   39        Yes\n",
       "3    1735      6643   6066  9976    9119  9912                   24        Yes\n",
       "4    2001      8287   4062  8763    9751  2820                   26        Yes"
      ]
     },
     "execution_count": 112,
     "metadata": {},
     "output_type": "execute_result"
    }
   ],
   "source": [
    "X.head()"
   ]
  },
  {
   "cell_type": "code",
   "execution_count": 113,
   "metadata": {},
   "outputs": [
    {
     "data": {
      "text/html": [
       "<div>\n",
       "<style scoped>\n",
       "    .dataframe tbody tr th:only-of-type {\n",
       "        vertical-align: middle;\n",
       "    }\n",
       "\n",
       "    .dataframe tbody tr th {\n",
       "        vertical-align: top;\n",
       "    }\n",
       "\n",
       "    .dataframe thead th {\n",
       "        text-align: right;\n",
       "    }\n",
       "</style>\n",
       "<table border=\"1\" class=\"dataframe\">\n",
       "  <thead>\n",
       "    <tr style=\"text-align: right;\">\n",
       "      <th></th>\n",
       "      <th>Winner</th>\n",
       "      <th>Winner_Time</th>\n",
       "      <th>Second</th>\n",
       "      <th>Second_Time</th>\n",
       "      <th>Third</th>\n",
       "      <th>Third_Time</th>\n",
       "    </tr>\n",
       "  </thead>\n",
       "  <tbody>\n",
       "    <tr>\n",
       "      <th>0</th>\n",
       "      <td>rat</td>\n",
       "      <td>218</td>\n",
       "      <td>dog</td>\n",
       "      <td>242</td>\n",
       "      <td>dragon</td>\n",
       "      <td>245</td>\n",
       "    </tr>\n",
       "    <tr>\n",
       "      <th>1</th>\n",
       "      <td>tiger</td>\n",
       "      <td>216</td>\n",
       "      <td>snake</td>\n",
       "      <td>224</td>\n",
       "      <td>rat</td>\n",
       "      <td>239</td>\n",
       "    </tr>\n",
       "    <tr>\n",
       "      <th>2</th>\n",
       "      <td>ox</td>\n",
       "      <td>191</td>\n",
       "      <td>rabbit</td>\n",
       "      <td>217</td>\n",
       "      <td>horse</td>\n",
       "      <td>240</td>\n",
       "    </tr>\n",
       "    <tr>\n",
       "      <th>3</th>\n",
       "      <td>goat</td>\n",
       "      <td>319</td>\n",
       "      <td>rooster</td>\n",
       "      <td>322</td>\n",
       "      <td>horse</td>\n",
       "      <td>334</td>\n",
       "    </tr>\n",
       "    <tr>\n",
       "      <th>4</th>\n",
       "      <td>horse</td>\n",
       "      <td>255</td>\n",
       "      <td>goat</td>\n",
       "      <td>259</td>\n",
       "      <td>rooster</td>\n",
       "      <td>263</td>\n",
       "    </tr>\n",
       "  </tbody>\n",
       "</table>\n",
       "</div>"
      ],
      "text/plain": [
       "  Winner  Winner_Time   Second  Second_Time    Third  Third_Time\n",
       "0    rat          218      dog          242   dragon         245\n",
       "1  tiger          216    snake          224      rat         239\n",
       "2     ox          191   rabbit          217    horse         240\n",
       "3   goat          319  rooster          322    horse         334\n",
       "4  horse          255     goat          259  rooster         263"
      ]
     },
     "execution_count": 113,
     "metadata": {},
     "output_type": "execute_result"
    }
   ],
   "source": [
    "Y.head()"
   ]
  },
  {
   "cell_type": "code",
   "execution_count": 114,
   "metadata": {
    "_uuid": "ba44df08389a6574049bb67a7e0b9cda80b4ee3c",
    "collapsed": true
   },
   "outputs": [],
   "source": [
    "animal_list = ['rat', 'ox', 'tiger', 'rabbit', 'dragon', 'snake', \n",
    "               'horse', 'goat', 'monkey', 'rooster', 'dog', 'pig']\n",
    "\n",
    "top_3 = ['Winner', 'Second', 'Third']\n",
    "\n",
    "#Generate df (one-hot encoded) indicating whether each animal (column) finishes in the top 3\n",
    "\n",
    "Y_top3 = pd.DataFrame({animal:z_df[top_3].isin([animal]).apply(sum, axis=1) for animal in animal_list}).astype(int)"
   ]
  },
  {
   "cell_type": "code",
   "execution_count": 115,
   "metadata": {
    "_uuid": "ba44df08389a6574049bb67a7e0b9cda80b4ee3c"
   },
   "outputs": [
    {
     "data": {
      "text/html": [
       "<div>\n",
       "<style scoped>\n",
       "    .dataframe tbody tr th:only-of-type {\n",
       "        vertical-align: middle;\n",
       "    }\n",
       "\n",
       "    .dataframe tbody tr th {\n",
       "        vertical-align: top;\n",
       "    }\n",
       "\n",
       "    .dataframe thead th {\n",
       "        text-align: right;\n",
       "    }\n",
       "</style>\n",
       "<table border=\"1\" class=\"dataframe\">\n",
       "  <thead>\n",
       "    <tr style=\"text-align: right;\">\n",
       "      <th></th>\n",
       "      <th>rat</th>\n",
       "      <th>ox</th>\n",
       "      <th>tiger</th>\n",
       "      <th>rabbit</th>\n",
       "      <th>dragon</th>\n",
       "      <th>snake</th>\n",
       "      <th>horse</th>\n",
       "      <th>goat</th>\n",
       "      <th>monkey</th>\n",
       "      <th>rooster</th>\n",
       "      <th>dog</th>\n",
       "      <th>pig</th>\n",
       "    </tr>\n",
       "  </thead>\n",
       "  <tbody>\n",
       "    <tr>\n",
       "      <th>0</th>\n",
       "      <td>1</td>\n",
       "      <td>0</td>\n",
       "      <td>0</td>\n",
       "      <td>0</td>\n",
       "      <td>1</td>\n",
       "      <td>0</td>\n",
       "      <td>0</td>\n",
       "      <td>0</td>\n",
       "      <td>0</td>\n",
       "      <td>0</td>\n",
       "      <td>1</td>\n",
       "      <td>0</td>\n",
       "    </tr>\n",
       "    <tr>\n",
       "      <th>1</th>\n",
       "      <td>1</td>\n",
       "      <td>0</td>\n",
       "      <td>1</td>\n",
       "      <td>0</td>\n",
       "      <td>0</td>\n",
       "      <td>1</td>\n",
       "      <td>0</td>\n",
       "      <td>0</td>\n",
       "      <td>0</td>\n",
       "      <td>0</td>\n",
       "      <td>0</td>\n",
       "      <td>0</td>\n",
       "    </tr>\n",
       "    <tr>\n",
       "      <th>2</th>\n",
       "      <td>0</td>\n",
       "      <td>1</td>\n",
       "      <td>0</td>\n",
       "      <td>1</td>\n",
       "      <td>0</td>\n",
       "      <td>0</td>\n",
       "      <td>1</td>\n",
       "      <td>0</td>\n",
       "      <td>0</td>\n",
       "      <td>0</td>\n",
       "      <td>0</td>\n",
       "      <td>0</td>\n",
       "    </tr>\n",
       "    <tr>\n",
       "      <th>3</th>\n",
       "      <td>0</td>\n",
       "      <td>0</td>\n",
       "      <td>0</td>\n",
       "      <td>0</td>\n",
       "      <td>0</td>\n",
       "      <td>0</td>\n",
       "      <td>1</td>\n",
       "      <td>1</td>\n",
       "      <td>0</td>\n",
       "      <td>1</td>\n",
       "      <td>0</td>\n",
       "      <td>0</td>\n",
       "    </tr>\n",
       "    <tr>\n",
       "      <th>4</th>\n",
       "      <td>0</td>\n",
       "      <td>0</td>\n",
       "      <td>0</td>\n",
       "      <td>0</td>\n",
       "      <td>0</td>\n",
       "      <td>0</td>\n",
       "      <td>1</td>\n",
       "      <td>1</td>\n",
       "      <td>0</td>\n",
       "      <td>1</td>\n",
       "      <td>0</td>\n",
       "      <td>0</td>\n",
       "    </tr>\n",
       "  </tbody>\n",
       "</table>\n",
       "</div>"
      ],
      "text/plain": [
       "   rat  ox  tiger  rabbit  dragon  snake  horse  goat  monkey  rooster  dog  \\\n",
       "0    1   0      0       0       1      0      0     0       0        0    1   \n",
       "1    1   0      1       0       0      1      0     0       0        0    0   \n",
       "2    0   1      0       1       0      0      1     0       0        0    0   \n",
       "3    0   0      0       0       0      0      1     1       0        1    0   \n",
       "4    0   0      0       0       0      0      1     1       0        1    0   \n",
       "\n",
       "   pig  \n",
       "0    0  \n",
       "1    0  \n",
       "2    0  \n",
       "3    0  \n",
       "4    0  "
      ]
     },
     "execution_count": 115,
     "metadata": {},
     "output_type": "execute_result"
    }
   ],
   "source": [
    "Y_top3.head()"
   ]
  },
  {
   "cell_type": "markdown",
   "metadata": {
    "_uuid": "ba44df08389a6574049bb67a7e0b9cda80b4ee3c"
   },
   "source": [
    "# Data preprocessing"
   ]
  },
  {
   "cell_type": "markdown",
   "metadata": {
    "_uuid": "ba44df08389a6574049bb67a7e0b9cda80b4ee3c"
   },
   "source": [
    "## Engineer Features"
   ]
  },
  {
   "cell_type": "code",
   "execution_count": 116,
   "metadata": {
    "_uuid": "ba44df08389a6574049bb67a7e0b9cda80b4ee3c",
    "collapsed": true
   },
   "outputs": [],
   "source": [
    "# Total distance:\n",
    "X.eval('Total_distance = Desert + Mountain + Water + Land + Forest + Snow', inplace= True)\n",
    "# Convert Yes/No to 1/0\n",
    "X['Is_Raining'] = X['Is_Raining'].map({'Yes':1, 'No':0}) \n",
    "\n",
    "# scale data\n",
    "X_scaled = (X - X.min()) / (X.max() - X.min())\n",
    "# X_scaled = (X - X.mean())/X.std()"
   ]
  },
  {
   "cell_type": "code",
   "execution_count": 117,
   "metadata": {
    "_uuid": "3558e4d6beee9e902ee5e4c081adcec91cbd146b",
    "collapsed": true
   },
   "outputs": [],
   "source": [
    "from sklearn.model_selection import train_test_split\n",
    "\n",
    "from sklearn.model_selection import StratifiedShuffleSplit\n",
    "from sklearn.metrics import accuracy_score, log_loss\n",
    "from sklearn.neighbors import KNeighborsClassifier\n",
    "from sklearn.svm import SVC\n",
    "from sklearn.tree import DecisionTreeClassifier\n",
    "from sklearn.ensemble import RandomForestClassifier, AdaBoostClassifier, GradientBoostingClassifier\n",
    "from sklearn.naive_bayes import GaussianNB\n",
    "from sklearn.discriminant_analysis import LinearDiscriminantAnalysis, QuadraticDiscriminantAnalysis\n",
    "from sklearn.linear_model import LogisticRegression\n",
    "import copy"
   ]
  },
  {
   "cell_type": "code",
   "execution_count": 118,
   "metadata": {},
   "outputs": [
    {
     "data": {
      "text/html": [
       "<div>\n",
       "<style scoped>\n",
       "    .dataframe tbody tr th:only-of-type {\n",
       "        vertical-align: middle;\n",
       "    }\n",
       "\n",
       "    .dataframe tbody tr th {\n",
       "        vertical-align: top;\n",
       "    }\n",
       "\n",
       "    .dataframe thead th {\n",
       "        text-align: right;\n",
       "    }\n",
       "</style>\n",
       "<table border=\"1\" class=\"dataframe\">\n",
       "  <thead>\n",
       "    <tr style=\"text-align: right;\">\n",
       "      <th></th>\n",
       "      <th>Winner</th>\n",
       "      <th>Winner_Time</th>\n",
       "      <th>Second</th>\n",
       "      <th>Second_Time</th>\n",
       "      <th>Third</th>\n",
       "      <th>Third_Time</th>\n",
       "    </tr>\n",
       "  </thead>\n",
       "  <tbody>\n",
       "    <tr>\n",
       "      <th>0</th>\n",
       "      <td>rat</td>\n",
       "      <td>218</td>\n",
       "      <td>dog</td>\n",
       "      <td>242</td>\n",
       "      <td>dragon</td>\n",
       "      <td>245</td>\n",
       "    </tr>\n",
       "    <tr>\n",
       "      <th>1</th>\n",
       "      <td>tiger</td>\n",
       "      <td>216</td>\n",
       "      <td>snake</td>\n",
       "      <td>224</td>\n",
       "      <td>rat</td>\n",
       "      <td>239</td>\n",
       "    </tr>\n",
       "    <tr>\n",
       "      <th>2</th>\n",
       "      <td>ox</td>\n",
       "      <td>191</td>\n",
       "      <td>rabbit</td>\n",
       "      <td>217</td>\n",
       "      <td>horse</td>\n",
       "      <td>240</td>\n",
       "    </tr>\n",
       "    <tr>\n",
       "      <th>3</th>\n",
       "      <td>goat</td>\n",
       "      <td>319</td>\n",
       "      <td>rooster</td>\n",
       "      <td>322</td>\n",
       "      <td>horse</td>\n",
       "      <td>334</td>\n",
       "    </tr>\n",
       "    <tr>\n",
       "      <th>4</th>\n",
       "      <td>horse</td>\n",
       "      <td>255</td>\n",
       "      <td>goat</td>\n",
       "      <td>259</td>\n",
       "      <td>rooster</td>\n",
       "      <td>263</td>\n",
       "    </tr>\n",
       "  </tbody>\n",
       "</table>\n",
       "</div>"
      ],
      "text/plain": [
       "  Winner  Winner_Time   Second  Second_Time    Third  Third_Time\n",
       "0    rat          218      dog          242   dragon         245\n",
       "1  tiger          216    snake          224      rat         239\n",
       "2     ox          191   rabbit          217    horse         240\n",
       "3   goat          319  rooster          322    horse         334\n",
       "4  horse          255     goat          259  rooster         263"
      ]
     },
     "execution_count": 118,
     "metadata": {},
     "output_type": "execute_result"
    }
   ],
   "source": [
    "Y.head()"
   ]
  },
  {
   "cell_type": "code",
   "execution_count": 119,
   "metadata": {},
   "outputs": [
    {
     "data": {
      "text/html": [
       "<div>\n",
       "<style scoped>\n",
       "    .dataframe tbody tr th:only-of-type {\n",
       "        vertical-align: middle;\n",
       "    }\n",
       "\n",
       "    .dataframe tbody tr th {\n",
       "        vertical-align: top;\n",
       "    }\n",
       "\n",
       "    .dataframe thead th {\n",
       "        text-align: right;\n",
       "    }\n",
       "</style>\n",
       "<table border=\"1\" class=\"dataframe\">\n",
       "  <thead>\n",
       "    <tr style=\"text-align: right;\">\n",
       "      <th></th>\n",
       "      <th>rat</th>\n",
       "      <th>ox</th>\n",
       "      <th>tiger</th>\n",
       "      <th>rabbit</th>\n",
       "      <th>dragon</th>\n",
       "      <th>snake</th>\n",
       "      <th>horse</th>\n",
       "      <th>goat</th>\n",
       "      <th>monkey</th>\n",
       "      <th>rooster</th>\n",
       "      <th>dog</th>\n",
       "      <th>pig</th>\n",
       "    </tr>\n",
       "  </thead>\n",
       "  <tbody>\n",
       "    <tr>\n",
       "      <th>0</th>\n",
       "      <td>218</td>\n",
       "      <td>0</td>\n",
       "      <td>0</td>\n",
       "      <td>0</td>\n",
       "      <td>245</td>\n",
       "      <td>0</td>\n",
       "      <td>0</td>\n",
       "      <td>0</td>\n",
       "      <td>0</td>\n",
       "      <td>0</td>\n",
       "      <td>242</td>\n",
       "      <td>0</td>\n",
       "    </tr>\n",
       "    <tr>\n",
       "      <th>1</th>\n",
       "      <td>239</td>\n",
       "      <td>0</td>\n",
       "      <td>216</td>\n",
       "      <td>0</td>\n",
       "      <td>0</td>\n",
       "      <td>224</td>\n",
       "      <td>0</td>\n",
       "      <td>0</td>\n",
       "      <td>0</td>\n",
       "      <td>0</td>\n",
       "      <td>0</td>\n",
       "      <td>0</td>\n",
       "    </tr>\n",
       "    <tr>\n",
       "      <th>2</th>\n",
       "      <td>0</td>\n",
       "      <td>191</td>\n",
       "      <td>0</td>\n",
       "      <td>217</td>\n",
       "      <td>0</td>\n",
       "      <td>0</td>\n",
       "      <td>240</td>\n",
       "      <td>0</td>\n",
       "      <td>0</td>\n",
       "      <td>0</td>\n",
       "      <td>0</td>\n",
       "      <td>0</td>\n",
       "    </tr>\n",
       "    <tr>\n",
       "      <th>3</th>\n",
       "      <td>0</td>\n",
       "      <td>0</td>\n",
       "      <td>0</td>\n",
       "      <td>0</td>\n",
       "      <td>0</td>\n",
       "      <td>0</td>\n",
       "      <td>334</td>\n",
       "      <td>319</td>\n",
       "      <td>0</td>\n",
       "      <td>322</td>\n",
       "      <td>0</td>\n",
       "      <td>0</td>\n",
       "    </tr>\n",
       "    <tr>\n",
       "      <th>4</th>\n",
       "      <td>0</td>\n",
       "      <td>0</td>\n",
       "      <td>0</td>\n",
       "      <td>0</td>\n",
       "      <td>0</td>\n",
       "      <td>0</td>\n",
       "      <td>255</td>\n",
       "      <td>259</td>\n",
       "      <td>0</td>\n",
       "      <td>263</td>\n",
       "      <td>0</td>\n",
       "      <td>0</td>\n",
       "    </tr>\n",
       "  </tbody>\n",
       "</table>\n",
       "</div>"
      ],
      "text/plain": [
       "   rat   ox  tiger  rabbit  dragon  snake  horse  goat  monkey  rooster  dog  \\\n",
       "0  218    0      0       0     245      0      0     0       0        0  242   \n",
       "1  239    0    216       0       0    224      0     0       0        0    0   \n",
       "2    0  191      0     217       0      0    240     0       0        0    0   \n",
       "3    0    0      0       0       0      0    334   319       0      322    0   \n",
       "4    0    0      0       0       0      0    255   259       0      263    0   \n",
       "\n",
       "   pig  \n",
       "0    0  \n",
       "1    0  \n",
       "2    0  \n",
       "3    0  \n",
       "4    0  "
      ]
     },
     "execution_count": 119,
     "metadata": {},
     "output_type": "execute_result"
    }
   ],
   "source": [
    "def to_time_df(finisher_col, time_col): \n",
    "    return pd.get_dummies(finisher_col).apply( lambda x: x*time_col)\n",
    "\n",
    "time_map = {'Winner': 'Winner_Time',\n",
    "            'Second': 'Second_Time',\n",
    "            'Third': 'Third_Time'\n",
    "           }\n",
    "\n",
    "Y_time = sum([to_time_df(Y[pos_name], Y[pos_time]) for (pos_name, pos_time )in time_map.items()])[animal_list]\n",
    "\n",
    "assert sum((Y_time > 0).sum(axis=1) != 3) ==0\n",
    "Y_time.head()"
   ]
  },
  {
   "cell_type": "markdown",
   "metadata": {
    "_uuid": "c230fbc5891d6d71f4a05af0dd90fa09f965fd31"
   },
   "source": [
    "## 1st stage:\n",
    "### Predict whether each animal finishes in top 3"
   ]
  },
  {
   "cell_type": "code",
   "execution_count": 120,
   "metadata": {
    "_uuid": "c230fbc5891d6d71f4a05af0dd90fa09f965fd31",
    "collapsed": true
   },
   "outputs": [],
   "source": [
    "#split into training and test sets\n",
    "X_train, X_test, Y_top3_train, Y_top3_test, Y_time_train, Y_time_test = train_test_split(X_scaled, Y_top3.astype(int), Y_time, random_state=0)"
   ]
  },
  {
   "cell_type": "code",
   "execution_count": 121,
   "metadata": {
    "_uuid": "3cc7e3275858b062355ffce823c1e91cfbf03a0c"
   },
   "outputs": [],
   "source": [
    "classifiers = [\n",
    "    KNeighborsClassifier(3),\n",
    "#     SVC(probability=True),\n",
    "    DecisionTreeClassifier(),\n",
    "    RandomForestClassifier(random_state=0),\n",
    "#     AdaBoostClassifier(),\n",
    "    GradientBoostingClassifier(),\n",
    "    GaussianNB(),\n",
    "    LinearDiscriminantAnalysis(),\n",
    "#     QuadraticDiscriminantAnalysis(),\n",
    "    LogisticRegression()\n",
    "    ]\n",
    "\n",
    "\n",
    "clf_names = [clf.__class__.__name__ for clf in classifiers]"
   ]
  },
  {
   "cell_type": "code",
   "execution_count": 166,
   "metadata": {},
   "outputs": [],
   "source": [
    "class model_matrix(object):\n",
    "    def __init__(self, model_list, animal_list):\n",
    "        '''\n",
    "        Args:\n",
    "        model_list: list of initialised models (regressors/ classifiers)\n",
    "        animal_list: list of animals\n",
    "        '''\n",
    "        self.fitted = False\n",
    "        \n",
    "        self.animal_list = animal_list\n",
    "        self.mode_list = model_list\n",
    "        self.model_names = [model.__class__.__name__ for model in model_list]\n",
    "        \n",
    "        self.uniqname= 'mod' + str(abs(hash(frozenset(model_list))\n",
    "                                  + hash(frozenset(animal_list))))\n",
    "        \n",
    "        def add_animal_attr(model, animal_name):\n",
    "            model_ = copy.deepcopy(model)\n",
    "            model_.animal = animal_name\n",
    "            return model_\n",
    "        \n",
    "        self.model_df = pd.DataFrame([[add_animal_attr(model, animal) \n",
    "                                       for animal in animal_list] \n",
    "                                       for model in model_list],\n",
    "                                       columns = animal_list,\n",
    "                                       index = self.model_names)\n",
    "        \n",
    "    \n",
    "    def helper(self, model, X, Y):\n",
    "                #returns fitted classifier\n",
    "                print('fitting {} to {} \\n'.format(model.__class__.__name__, \n",
    "                                                   model.animal))\n",
    "                #fit inplace\n",
    "                model.fit(X,Y[model.animal])\n",
    "    \n",
    "    \n",
    "    \n",
    "    def train(self, X, Y, refit = False):\n",
    "        \n",
    "    \n",
    "        if refit == True:\n",
    "            #function to apply to each element (instantiated model)\n",
    "            \n",
    "\n",
    "\n",
    "            self.model_df.applymap(lambda model: self.helper(model, X, Y))\n",
    "            self.fitted = True\n",
    "\n",
    "            pickle.dump(self.model_df, open(self.uniqname, 'wb'))\n",
    "        \n",
    "        else:\n",
    "            \n",
    "            self.model_df= pickle.load(open(self.uniqname, 'rb'))\n",
    "            \n",
    "        self.fitted = True\n",
    "    \n",
    "    def score(self, X, Y):\n",
    "        assert self.fitted== True\n",
    "        return self.model_df.applymap( lambda model: model.score(X, Y[model.animal]))\n",
    "\n",
    "        \n"
   ]
  },
  {
   "cell_type": "code",
   "execution_count": 124,
   "metadata": {
    "collapsed": true
   },
   "outputs": [],
   "source": [
    "clf_matrix = model_matrix(classifiers, animal_list)\n",
    "\n",
    "clf_matrix.train(X_train, Y_top3_train, False)"
   ]
  },
  {
   "cell_type": "code",
   "execution_count": 129,
   "metadata": {},
   "outputs": [
    {
     "data": {
      "text/html": [
       "<div>\n",
       "<style scoped>\n",
       "    .dataframe tbody tr th:only-of-type {\n",
       "        vertical-align: middle;\n",
       "    }\n",
       "\n",
       "    .dataframe tbody tr th {\n",
       "        vertical-align: top;\n",
       "    }\n",
       "\n",
       "    .dataframe thead th {\n",
       "        text-align: right;\n",
       "    }\n",
       "</style>\n",
       "<table border=\"1\" class=\"dataframe\">\n",
       "  <thead>\n",
       "    <tr style=\"text-align: right;\">\n",
       "      <th></th>\n",
       "      <th>rat</th>\n",
       "      <th>ox</th>\n",
       "      <th>tiger</th>\n",
       "      <th>rabbit</th>\n",
       "      <th>dragon</th>\n",
       "      <th>snake</th>\n",
       "      <th>horse</th>\n",
       "      <th>goat</th>\n",
       "      <th>monkey</th>\n",
       "      <th>rooster</th>\n",
       "      <th>dog</th>\n",
       "      <th>pig</th>\n",
       "    </tr>\n",
       "  </thead>\n",
       "  <tbody>\n",
       "    <tr>\n",
       "      <th>KNeighborsClassifier</th>\n",
       "      <td>0.8972</td>\n",
       "      <td>0.9364</td>\n",
       "      <td>0.9082</td>\n",
       "      <td>0.9409</td>\n",
       "      <td>0.9247</td>\n",
       "      <td>0.8777</td>\n",
       "      <td>0.9061</td>\n",
       "      <td>0.9166</td>\n",
       "      <td>0.9053</td>\n",
       "      <td>0.9475</td>\n",
       "      <td>0.9036</td>\n",
       "      <td>0.9273</td>\n",
       "    </tr>\n",
       "    <tr>\n",
       "      <th>DecisionTreeClassifier</th>\n",
       "      <td>0.9240</td>\n",
       "      <td>0.9826</td>\n",
       "      <td>0.9193</td>\n",
       "      <td>0.9793</td>\n",
       "      <td>0.9245</td>\n",
       "      <td>0.9070</td>\n",
       "      <td>0.9220</td>\n",
       "      <td>0.9260</td>\n",
       "      <td>0.9175</td>\n",
       "      <td>0.9578</td>\n",
       "      <td>0.9292</td>\n",
       "      <td>0.9587</td>\n",
       "    </tr>\n",
       "    <tr>\n",
       "      <th>RandomForestClassifier</th>\n",
       "      <td>0.9456</td>\n",
       "      <td>0.9868</td>\n",
       "      <td>0.9421</td>\n",
       "      <td>0.9854</td>\n",
       "      <td>0.9484</td>\n",
       "      <td>0.9266</td>\n",
       "      <td>0.9465</td>\n",
       "      <td>0.9460</td>\n",
       "      <td>0.9438</td>\n",
       "      <td>0.9688</td>\n",
       "      <td>0.9483</td>\n",
       "      <td>0.9711</td>\n",
       "    </tr>\n",
       "    <tr>\n",
       "      <th>GradientBoostingClassifier</th>\n",
       "      <td>0.9450</td>\n",
       "      <td>0.9851</td>\n",
       "      <td>0.9423</td>\n",
       "      <td>0.9852</td>\n",
       "      <td>0.9550</td>\n",
       "      <td>0.9241</td>\n",
       "      <td>0.9459</td>\n",
       "      <td>0.9493</td>\n",
       "      <td>0.9340</td>\n",
       "      <td>0.9695</td>\n",
       "      <td>0.9453</td>\n",
       "      <td>0.9667</td>\n",
       "    </tr>\n",
       "    <tr>\n",
       "      <th>GaussianNB</th>\n",
       "      <td>0.8443</td>\n",
       "      <td>0.9502</td>\n",
       "      <td>0.8654</td>\n",
       "      <td>0.9471</td>\n",
       "      <td>0.8960</td>\n",
       "      <td>0.8157</td>\n",
       "      <td>0.8630</td>\n",
       "      <td>0.8792</td>\n",
       "      <td>0.8481</td>\n",
       "      <td>0.9496</td>\n",
       "      <td>0.8519</td>\n",
       "      <td>0.8820</td>\n",
       "    </tr>\n",
       "    <tr>\n",
       "      <th>LinearDiscriminantAnalysis</th>\n",
       "      <td>0.7804</td>\n",
       "      <td>0.9445</td>\n",
       "      <td>0.8348</td>\n",
       "      <td>0.9379</td>\n",
       "      <td>0.9125</td>\n",
       "      <td>0.7187</td>\n",
       "      <td>0.8676</td>\n",
       "      <td>0.9000</td>\n",
       "      <td>0.8527</td>\n",
       "      <td>0.9441</td>\n",
       "      <td>0.7933</td>\n",
       "      <td>0.8690</td>\n",
       "    </tr>\n",
       "    <tr>\n",
       "      <th>LogisticRegression</th>\n",
       "      <td>0.7794</td>\n",
       "      <td>0.9467</td>\n",
       "      <td>0.8354</td>\n",
       "      <td>0.9408</td>\n",
       "      <td>0.9123</td>\n",
       "      <td>0.7190</td>\n",
       "      <td>0.8683</td>\n",
       "      <td>0.9002</td>\n",
       "      <td>0.8533</td>\n",
       "      <td>0.9504</td>\n",
       "      <td>0.7932</td>\n",
       "      <td>0.8683</td>\n",
       "    </tr>\n",
       "  </tbody>\n",
       "</table>\n",
       "</div>"
      ],
      "text/plain": [
       "                               rat      ox   tiger  rabbit  dragon   snake  \\\n",
       "KNeighborsClassifier        0.8972  0.9364  0.9082  0.9409  0.9247  0.8777   \n",
       "DecisionTreeClassifier      0.9240  0.9826  0.9193  0.9793  0.9245  0.9070   \n",
       "RandomForestClassifier      0.9456  0.9868  0.9421  0.9854  0.9484  0.9266   \n",
       "GradientBoostingClassifier  0.9450  0.9851  0.9423  0.9852  0.9550  0.9241   \n",
       "GaussianNB                  0.8443  0.9502  0.8654  0.9471  0.8960  0.8157   \n",
       "LinearDiscriminantAnalysis  0.7804  0.9445  0.8348  0.9379  0.9125  0.7187   \n",
       "LogisticRegression          0.7794  0.9467  0.8354  0.9408  0.9123  0.7190   \n",
       "\n",
       "                             horse    goat  monkey  rooster     dog     pig  \n",
       "KNeighborsClassifier        0.9061  0.9166  0.9053   0.9475  0.9036  0.9273  \n",
       "DecisionTreeClassifier      0.9220  0.9260  0.9175   0.9578  0.9292  0.9587  \n",
       "RandomForestClassifier      0.9465  0.9460  0.9438   0.9688  0.9483  0.9711  \n",
       "GradientBoostingClassifier  0.9459  0.9493  0.9340   0.9695  0.9453  0.9667  \n",
       "GaussianNB                  0.8630  0.8792  0.8481   0.9496  0.8519  0.8820  \n",
       "LinearDiscriminantAnalysis  0.8676  0.9000  0.8527   0.9441  0.7933  0.8690  \n",
       "LogisticRegression          0.8683  0.9002  0.8533   0.9504  0.7932  0.8683  "
      ]
     },
     "execution_count": 129,
     "metadata": {},
     "output_type": "execute_result"
    }
   ],
   "source": [
    "clf_score_matrix =clf_matrix.score(X_test, Y_top3_test)\n",
    "\n",
    "clf_score_matrix"
   ]
  },
  {
   "cell_type": "markdown",
   "metadata": {},
   "source": [
    "### Compare classifiers"
   ]
  },
  {
   "cell_type": "code",
   "execution_count": 130,
   "metadata": {
    "scrolled": true
   },
   "outputs": [
    {
     "name": "stdout",
     "output_type": "stream",
     "text": [
      "best clf: RandomForestClassifier\n"
     ]
    }
   ],
   "source": [
    "# %%debug\n",
    "\n",
    "# clf_score_matrix=clf_score_matrix.swaplevel(axis=1)\n",
    "# clf_score_matrix.reindex(sorted(clf_score_matrix.columns), axis=1)\n",
    "best_clfs = clf_score_matrix.idxmax()\n",
    "\n",
    "name_clf_dict = {clf.__class__.__name__:clf for clf in classifiers}\n",
    "best_clfs.value_counts()\n",
    "\n",
    "best_clf = name_clf_dict[best_clfs.mode().loc[0]]\n",
    "print('best clf: {}'.format(best_clf.__class__.__name__))"
   ]
  },
  {
   "cell_type": "markdown",
   "metadata": {},
   "source": [
    "## Fit Regressors"
   ]
  },
  {
   "cell_type": "code",
   "execution_count": 133,
   "metadata": {
    "collapsed": true
   },
   "outputs": [],
   "source": [
    "from sklearn.ensemble import GradientBoostingRegressor, RandomForestRegressor, AdaBoostRegressor\n",
    "from sklearn.linear_model import LogisticRegression"
   ]
  },
  {
   "cell_type": "code",
   "execution_count": 142,
   "metadata": {},
   "outputs": [],
   "source": [
    "regressors = [\n",
    "#               GradientBoostingRegressor(),\n",
    "              GradientBoostingRegressor(n_estimators=1000, max_depth=5),\n",
    "#               RandomForestRegressor(), \n",
    "#               AdaBoostRegressor(),\n",
    "#               LogisticRegression()\n",
    "             ]\n",
    "\n"
   ]
  },
  {
   "cell_type": "code",
   "execution_count": 186,
   "metadata": {
    "collapsed": true
   },
   "outputs": [],
   "source": [
    "#For each animal, train regressors only on rows where there is a timing \n",
    "\n",
    "class special_rgg_matrix(model_matrix):\n",
    "    def helper(self, model, X, Y):\n",
    "            #returns fitted model\n",
    "            print('fitting {} to {} \\n'.format(model.__class__.__name__, \n",
    "                                               model.animal))\n",
    "            #fit inplace\n",
    "            y = Y[model.animal]\n",
    "            model.fit(X[y>0],y[y>0])\n",
    "\n",
    "    def score(self, X, Y):\n",
    "            assert self.fitted== True\n",
    "            return self.model_df.applymap(lambda model: \n",
    "                                          model.score(X[Y[model.animal]>0], \n",
    "                                                      Y[model.animal][Y[model.animal]>0]))"
   ]
  },
  {
   "cell_type": "code",
   "execution_count": 192,
   "metadata": {
    "scrolled": false
   },
   "outputs": [
    {
     "name": "stdout",
     "output_type": "stream",
     "text": [
      "fitting GradientBoostingRegressor to rat \n",
      "\n",
      "fitting GradientBoostingRegressor to rat \n",
      "\n",
      "fitting GradientBoostingRegressor to ox \n",
      "\n",
      "fitting GradientBoostingRegressor to tiger \n",
      "\n",
      "fitting GradientBoostingRegressor to rabbit \n",
      "\n",
      "fitting GradientBoostingRegressor to dragon \n",
      "\n",
      "fitting GradientBoostingRegressor to snake \n",
      "\n",
      "fitting GradientBoostingRegressor to horse \n",
      "\n",
      "fitting GradientBoostingRegressor to goat \n",
      "\n",
      "fitting GradientBoostingRegressor to monkey \n",
      "\n",
      "fitting GradientBoostingRegressor to rooster \n",
      "\n",
      "fitting GradientBoostingRegressor to dog \n",
      "\n",
      "fitting GradientBoostingRegressor to pig \n",
      "\n"
     ]
    }
   ],
   "source": [
    "rgg_matrix = special_rgg_matrix(regressors, animal_list)\n",
    "rgg_matrix.train(X_train, Y_time_train, True)\n",
    "\n",
    "rgg_score_matrix = rgg_matrix.score(X_test, Y_time_test)\n"
   ]
  },
  {
   "cell_type": "code",
   "execution_count": 193,
   "metadata": {
    "scrolled": false
   },
   "outputs": [
    {
     "data": {
      "text/html": [
       "<div>\n",
       "<style scoped>\n",
       "    .dataframe tbody tr th:only-of-type {\n",
       "        vertical-align: middle;\n",
       "    }\n",
       "\n",
       "    .dataframe tbody tr th {\n",
       "        vertical-align: top;\n",
       "    }\n",
       "\n",
       "    .dataframe thead th {\n",
       "        text-align: right;\n",
       "    }\n",
       "</style>\n",
       "<table border=\"1\" class=\"dataframe\">\n",
       "  <thead>\n",
       "    <tr style=\"text-align: right;\">\n",
       "      <th></th>\n",
       "      <th>rat</th>\n",
       "      <th>ox</th>\n",
       "      <th>tiger</th>\n",
       "      <th>rabbit</th>\n",
       "      <th>dragon</th>\n",
       "      <th>snake</th>\n",
       "      <th>horse</th>\n",
       "      <th>goat</th>\n",
       "      <th>monkey</th>\n",
       "      <th>rooster</th>\n",
       "      <th>dog</th>\n",
       "      <th>pig</th>\n",
       "    </tr>\n",
       "  </thead>\n",
       "  <tbody>\n",
       "    <tr>\n",
       "      <th>GradientBoostingRegressor</th>\n",
       "      <td>0.999332</td>\n",
       "      <td>0.997174</td>\n",
       "      <td>0.998598</td>\n",
       "      <td>0.996353</td>\n",
       "      <td>0.999029</td>\n",
       "      <td>0.999433</td>\n",
       "      <td>0.998579</td>\n",
       "      <td>0.998522</td>\n",
       "      <td>0.99907</td>\n",
       "      <td>0.997644</td>\n",
       "      <td>0.999231</td>\n",
       "      <td>0.997433</td>\n",
       "    </tr>\n",
       "  </tbody>\n",
       "</table>\n",
       "</div>"
      ],
      "text/plain": [
       "                                rat        ox     tiger    rabbit    dragon  \\\n",
       "GradientBoostingRegressor  0.999332  0.997174  0.998598  0.996353  0.999029   \n",
       "\n",
       "                              snake     horse      goat   monkey   rooster  \\\n",
       "GradientBoostingRegressor  0.999433  0.998579  0.998522  0.99907  0.997644   \n",
       "\n",
       "                                dog       pig  \n",
       "GradientBoostingRegressor  0.999231  0.997433  "
      ]
     },
     "execution_count": 193,
     "metadata": {},
     "output_type": "execute_result"
    }
   ],
   "source": [
    "rgg_score_matrix"
   ]
  },
  {
   "cell_type": "code",
   "execution_count": 194,
   "metadata": {},
   "outputs": [
    {
     "name": "stdout",
     "output_type": "stream",
     "text": [
      "best rgg: GradientBoostingRegressor\n"
     ]
    }
   ],
   "source": [
    "best_rggs = rgg_score_matrix.idxmax()\n",
    "\n",
    "name_rgg_dict = {rgg.__class__.__name__:rgg for rgg in regressors}\n",
    "best_rggs.value_counts()\n",
    "\n",
    "best_rgg = name_rgg_dict[best_rggs.mode().loc[0]]\n",
    "print('best rgg: {}'.format(best_rgg.__class__.__name__))"
   ]
  },
  {
   "cell_type": "markdown",
   "metadata": {},
   "source": [
    "## Predict top3 using regression\n",
    "### Compare results vs using classifer technique to predict top 3"
   ]
  },
  {
   "cell_type": "code",
   "execution_count": 237,
   "metadata": {},
   "outputs": [],
   "source": [
    "def pred_time(X, best_rgg):\n",
    "# returns dataframe of predicted timings for all animals given input data X \n",
    "    return pd.DataFrame([rgg.predict(X) for rgg in \n",
    "                        rgg_matrix.model_df.loc[best_rgg.__class__.__name__]], \\\n",
    "                        index=animal_list,\n",
    "                        columns=X.index).T\n",
    "    \n",
    "\n"
   ]
  },
  {
   "cell_type": "code",
   "execution_count": 238,
   "metadata": {
    "collapsed": true
   },
   "outputs": [],
   "source": [
    "def pred_top3_rgg(X, best_rgg):\n",
    "# returns dataframe Y of (one-hot) indicator of whether animal finished in top3\n",
    "    return pred_time(X_test, best_rgg).apply(lambda row: row.nsmallest(3) ,axis=1).notnull().reindex(animal_list, axis=1)\n",
    "    \n",
    "\n",
    "def pred_top3_clf(X, best_clf):\n",
    "# returns dataframe Y of (one-hot) indicator of whether animal finished in top3\n",
    "    return pd.DataFrame([clf_matrix.model_df.loc[best_clf.__class__.__name__,animal]\n",
    "                         .predict(X) for animal in animal_list],\n",
    "                        index=animal_list,\n",
    "                        columns=X.index\n",
    "                       ).T"
   ]
  },
  {
   "cell_type": "code",
   "execution_count": 239,
   "metadata": {
    "scrolled": true
   },
   "outputs": [],
   "source": [
    "pred_top3_clf_df = pred_top3_clf(X_test, best_clf)\n",
    "pred_top3_rgg_df= pred_top3_rgg(X_test,best_rgg).astype(int)"
   ]
  },
  {
   "cell_type": "code",
   "execution_count": 241,
   "metadata": {
    "scrolled": true
   },
   "outputs": [
    {
     "name": "stdout",
     "output_type": "stream",
     "text": [
      "Accuracy in predicting whether animal finishes in top3: \n",
      "       Using Regression: 0.8401166666666665 \n",
      "       Using Classification: 0.9549499999999999 \n",
      " \n"
     ]
    }
   ],
   "source": [
    "print(\"Accuracy in predicting whether animal finishes in top3: \\n \\\n",
    "      Using Regression: {} \\n \\\n",
    "      Using Classification: {} \\n \"\n",
    "      .format((Y_top3_test == pred_top3_rgg_df).mean().mean(),\n",
    "              (Y_top3_test == pred_top3_clf_df).mean().mean())\n",
    "     )"
   ]
  },
  {
   "cell_type": "markdown",
   "metadata": {},
   "source": [
    "## Predict top 3 finishers in order using:\n",
    "\n",
    "\n",
    "### Method 1\n",
    "Pure regression: regression, then sort by timings. Pick only top 3. Compare against original top3 finishers.\n",
    "\n",
    "### Method 2\n",
    "Classification to pick animals predicted to finish in top3, then sort by timings \n",
    "If < 3 finishers are predicted to be in top3, choose next fastest timing from animal not predicted in top3"
   ]
  },
  {
   "cell_type": "code",
   "execution_count": 146,
   "metadata": {
    "collapsed": true
   },
   "outputs": [],
   "source": [
    "#Generate test ranked top3 set\n",
    "\n",
    "#Correct rankings\n",
    "Y_rank_test = Y_time_test[Y_time_test>0].rank(axis=1)[animal_list]\n",
    "X_rank_test = X_test"
   ]
  },
  {
   "cell_type": "code",
   "execution_count": null,
   "metadata": {
    "collapsed": true
   },
   "outputs": [],
   "source": [
    "#Method 1\n",
    "\n",
    "#Dataframe of predicted rankings using regression\n",
    "pred_rank_rgg = pred_time(X_rank_test, best_rgg).rank(axis=1).apply(lambda row: row.nsmallest(3) ,axis=1).reindex(animal_list, axis=1)"
   ]
  },
  {
   "cell_type": "code",
   "execution_count": 157,
   "metadata": {
    "scrolled": false
   },
   "outputs": [
    {
     "name": "stdout",
     "output_type": "stream",
     "text": [
      "0    3535\n",
      "3    3009\n",
      "1    2207\n",
      "2    1249\n",
      "dtype: int64\n",
      "Proportion of all 3 correct  0.3009\n"
     ]
    }
   ],
   "source": [
    "#number of positions predicted correctly for each entry\n",
    "correct_counts = (pred_rank_rgg==Y_rank_test).sum(axis=1).value_counts()\n",
    "print(correct_counts_m1)\n",
    "print(\"Proportion of all 3 correct using m1\", correct_counts_m1[3]/correct_counts_m1.sum())\n",
    "\n",
    "#proportion of times where all top3 rankings where predicted correctly\n",
    "rank_acc_rgg = ((pred_rank_rgg==Y_rank_test).sum(axis=1)==3).mean()"
   ]
  },
  {
   "cell_type": "code",
   "execution_count": 149,
   "metadata": {
    "collapsed": true,
    "scrolled": true
   },
   "outputs": [],
   "source": [
    "#Method 2\n",
    "\n",
    "def pred_rank_m2(X, best_rgg, best_clf):\n",
    "    pred_rank = pred_time(X, best_rgg).rank(axis=1)\n",
    "    pred_top3_clf_df = pred_top3_clf(X, best_clf)\n",
    "    \n",
    "    #ranking(using timings from rgg) of animals predicted by clf to finish in top 3 \n",
    "    intop3_ranked = pred_rank[pred_top3_clf_df.astype(bool)]\n",
    "    outtop3_ranked = pred_rank[~pred_top3_clf_df.astype(bool)] + 12\n",
    "    \n",
    "    return  intop3_ranked.fillna(outtop3_ranked).apply(lambda row: row.nsmallest(3) ,axis=1) \\\n",
    "            .reindex(animal_list, axis=1).rank(axis=1)\n"
   ]
  },
  {
   "cell_type": "code",
   "execution_count": 150,
   "metadata": {
    "collapsed": true
   },
   "outputs": [],
   "source": [
    "pred_rank_m2_df = pred_rank_m2(X_rank_test, best_rgg, best_clf)"
   ]
  },
  {
   "cell_type": "code",
   "execution_count": 158,
   "metadata": {
    "scrolled": false
   },
   "outputs": [
    {
     "name": "stdout",
     "output_type": "stream",
     "text": [
      "3    5328\n",
      "1    2242\n",
      "2    1971\n",
      "0     459\n",
      "dtype: int64\n",
      "Proportion of all 3 correct  0.5328\n"
     ]
    }
   ],
   "source": [
    "correct_counts_m2 = (pred_rank_m2_df==Y_rank_test).sum(axis=1).value_counts()\n",
    "print(correct_counts_m2)\n",
    "print(\"Proportion of all 3 correct using m2:\", correct_counts_m2[3]/correct_counts_m2.sum())"
   ]
  },
  {
   "cell_type": "code",
   "execution_count": 159,
   "metadata": {
    "collapsed": true,
    "scrolled": true
   },
   "outputs": [],
   "source": [
    "rank_acc_m2 = ((pred_rank_m2_df==Y_rank_test).sum(axis=1)==3).mean()"
   ]
  },
  {
   "cell_type": "code",
   "execution_count": 161,
   "metadata": {
    "scrolled": true
   },
   "outputs": [
    {
     "name": "stdout",
     "output_type": "stream",
     "text": [
      "fitting RandomForestClassifier to rat \n",
      "\n"
     ]
    },
    {
     "name": "stderr",
     "output_type": "stream",
     "text": [
      "C:\\Users\\Ivan\\Anaconda3\\lib\\site-packages\\sklearn\\ensemble\\forest.py:246: FutureWarning: The default value of n_estimators will change from 10 in version 0.20 to 100 in 0.22.\n",
      "  \"10 in version 0.20 to 100 in 0.22.\", FutureWarning)\n"
     ]
    },
    {
     "name": "stdout",
     "output_type": "stream",
     "text": [
      "fitting RandomForestClassifier to ox \n",
      "\n"
     ]
    },
    {
     "name": "stderr",
     "output_type": "stream",
     "text": [
      "C:\\Users\\Ivan\\Anaconda3\\lib\\site-packages\\sklearn\\ensemble\\forest.py:246: FutureWarning: The default value of n_estimators will change from 10 in version 0.20 to 100 in 0.22.\n",
      "  \"10 in version 0.20 to 100 in 0.22.\", FutureWarning)\n"
     ]
    },
    {
     "name": "stdout",
     "output_type": "stream",
     "text": [
      "fitting RandomForestClassifier to tiger \n",
      "\n"
     ]
    },
    {
     "name": "stderr",
     "output_type": "stream",
     "text": [
      "C:\\Users\\Ivan\\Anaconda3\\lib\\site-packages\\sklearn\\ensemble\\forest.py:246: FutureWarning: The default value of n_estimators will change from 10 in version 0.20 to 100 in 0.22.\n",
      "  \"10 in version 0.20 to 100 in 0.22.\", FutureWarning)\n"
     ]
    },
    {
     "name": "stdout",
     "output_type": "stream",
     "text": [
      "fitting RandomForestClassifier to rabbit \n",
      "\n"
     ]
    },
    {
     "name": "stderr",
     "output_type": "stream",
     "text": [
      "C:\\Users\\Ivan\\Anaconda3\\lib\\site-packages\\sklearn\\ensemble\\forest.py:246: FutureWarning: The default value of n_estimators will change from 10 in version 0.20 to 100 in 0.22.\n",
      "  \"10 in version 0.20 to 100 in 0.22.\", FutureWarning)\n"
     ]
    },
    {
     "name": "stdout",
     "output_type": "stream",
     "text": [
      "fitting RandomForestClassifier to dragon \n",
      "\n"
     ]
    },
    {
     "name": "stderr",
     "output_type": "stream",
     "text": [
      "C:\\Users\\Ivan\\Anaconda3\\lib\\site-packages\\sklearn\\ensemble\\forest.py:246: FutureWarning: The default value of n_estimators will change from 10 in version 0.20 to 100 in 0.22.\n",
      "  \"10 in version 0.20 to 100 in 0.22.\", FutureWarning)\n"
     ]
    },
    {
     "name": "stdout",
     "output_type": "stream",
     "text": [
      "fitting RandomForestClassifier to snake \n",
      "\n"
     ]
    },
    {
     "name": "stderr",
     "output_type": "stream",
     "text": [
      "C:\\Users\\Ivan\\Anaconda3\\lib\\site-packages\\sklearn\\ensemble\\forest.py:246: FutureWarning: The default value of n_estimators will change from 10 in version 0.20 to 100 in 0.22.\n",
      "  \"10 in version 0.20 to 100 in 0.22.\", FutureWarning)\n"
     ]
    },
    {
     "name": "stdout",
     "output_type": "stream",
     "text": [
      "fitting RandomForestClassifier to horse \n",
      "\n"
     ]
    },
    {
     "name": "stderr",
     "output_type": "stream",
     "text": [
      "C:\\Users\\Ivan\\Anaconda3\\lib\\site-packages\\sklearn\\ensemble\\forest.py:246: FutureWarning: The default value of n_estimators will change from 10 in version 0.20 to 100 in 0.22.\n",
      "  \"10 in version 0.20 to 100 in 0.22.\", FutureWarning)\n"
     ]
    },
    {
     "name": "stdout",
     "output_type": "stream",
     "text": [
      "fitting RandomForestClassifier to goat \n",
      "\n"
     ]
    },
    {
     "name": "stderr",
     "output_type": "stream",
     "text": [
      "C:\\Users\\Ivan\\Anaconda3\\lib\\site-packages\\sklearn\\ensemble\\forest.py:246: FutureWarning: The default value of n_estimators will change from 10 in version 0.20 to 100 in 0.22.\n",
      "  \"10 in version 0.20 to 100 in 0.22.\", FutureWarning)\n"
     ]
    },
    {
     "name": "stdout",
     "output_type": "stream",
     "text": [
      "fitting RandomForestClassifier to monkey \n",
      "\n"
     ]
    },
    {
     "name": "stderr",
     "output_type": "stream",
     "text": [
      "C:\\Users\\Ivan\\Anaconda3\\lib\\site-packages\\sklearn\\ensemble\\forest.py:246: FutureWarning: The default value of n_estimators will change from 10 in version 0.20 to 100 in 0.22.\n",
      "  \"10 in version 0.20 to 100 in 0.22.\", FutureWarning)\n"
     ]
    },
    {
     "name": "stdout",
     "output_type": "stream",
     "text": [
      "fitting RandomForestClassifier to rooster \n",
      "\n"
     ]
    },
    {
     "name": "stderr",
     "output_type": "stream",
     "text": [
      "C:\\Users\\Ivan\\Anaconda3\\lib\\site-packages\\sklearn\\ensemble\\forest.py:246: FutureWarning: The default value of n_estimators will change from 10 in version 0.20 to 100 in 0.22.\n",
      "  \"10 in version 0.20 to 100 in 0.22.\", FutureWarning)\n"
     ]
    },
    {
     "name": "stdout",
     "output_type": "stream",
     "text": [
      "fitting RandomForestClassifier to dog \n",
      "\n"
     ]
    },
    {
     "name": "stderr",
     "output_type": "stream",
     "text": [
      "C:\\Users\\Ivan\\Anaconda3\\lib\\site-packages\\sklearn\\ensemble\\forest.py:246: FutureWarning: The default value of n_estimators will change from 10 in version 0.20 to 100 in 0.22.\n",
      "  \"10 in version 0.20 to 100 in 0.22.\", FutureWarning)\n"
     ]
    },
    {
     "name": "stdout",
     "output_type": "stream",
     "text": [
      "fitting RandomForestClassifier to pig \n",
      "\n"
     ]
    },
    {
     "name": "stderr",
     "output_type": "stream",
     "text": [
      "C:\\Users\\Ivan\\Anaconda3\\lib\\site-packages\\sklearn\\ensemble\\forest.py:246: FutureWarning: The default value of n_estimators will change from 10 in version 0.20 to 100 in 0.22.\n",
      "  \"10 in version 0.20 to 100 in 0.22.\", FutureWarning)\n"
     ]
    },
    {
     "name": "stdout",
     "output_type": "stream",
     "text": [
      "fitting GradientBoostingRegressor to rat \n",
      "\n",
      "fitting GradientBoostingRegressor to ox \n",
      "\n",
      "fitting GradientBoostingRegressor to tiger \n",
      "\n",
      "fitting GradientBoostingRegressor to rabbit \n",
      "\n",
      "fitting GradientBoostingRegressor to dragon \n",
      "\n",
      "fitting GradientBoostingRegressor to snake \n",
      "\n",
      "fitting GradientBoostingRegressor to horse \n",
      "\n",
      "fitting GradientBoostingRegressor to goat \n",
      "\n",
      "fitting GradientBoostingRegressor to monkey \n",
      "\n",
      "fitting GradientBoostingRegressor to rooster \n",
      "\n",
      "fitting GradientBoostingRegressor to dog \n",
      "\n",
      "fitting GradientBoostingRegressor to pig \n",
      "\n"
     ]
    }
   ],
   "source": [
    "clfs_fitted_df = pd.DataFrame([[helper(clf, animal, X_scaled, Y_top3) for clf in copy.deepcopy([best_clf])] \n",
    "                                for animal in animal_list],\n",
    "                              columns= [best_clf.__class__.__name__],\n",
    "                              index = animal_list)\n",
    "\n",
    "rggs_fitted_df = pd.DataFrame([[helper_rgg(rgg, animal, X_scaled, Y_time) for rgg in copy.deepcopy([best_rgg])] \n",
    "                                for animal in animal_list]\n",
    "                               ,columns= [best_rgg.__class__.__name__]\n",
    "                               ,index = animal_list)\n",
    "\n"
   ]
  },
  {
   "cell_type": "code",
   "execution_count": 162,
   "metadata": {
    "scrolled": true
   },
   "outputs": [
    {
     "data": {
      "text/html": [
       "<div>\n",
       "<style scoped>\n",
       "    .dataframe tbody tr th:only-of-type {\n",
       "        vertical-align: middle;\n",
       "    }\n",
       "\n",
       "    .dataframe tbody tr th {\n",
       "        vertical-align: top;\n",
       "    }\n",
       "\n",
       "    .dataframe thead th {\n",
       "        text-align: right;\n",
       "    }\n",
       "</style>\n",
       "<table border=\"1\" class=\"dataframe\">\n",
       "  <thead>\n",
       "    <tr style=\"text-align: right;\">\n",
       "      <th></th>\n",
       "      <th>rat</th>\n",
       "      <th>ox</th>\n",
       "      <th>tiger</th>\n",
       "      <th>rabbit</th>\n",
       "      <th>dragon</th>\n",
       "      <th>snake</th>\n",
       "      <th>horse</th>\n",
       "      <th>goat</th>\n",
       "      <th>monkey</th>\n",
       "      <th>rooster</th>\n",
       "      <th>dog</th>\n",
       "      <th>pig</th>\n",
       "    </tr>\n",
       "  </thead>\n",
       "  <tbody>\n",
       "    <tr>\n",
       "      <th>0</th>\n",
       "      <td>NaN</td>\n",
       "      <td>3.0</td>\n",
       "      <td>NaN</td>\n",
       "      <td>1.0</td>\n",
       "      <td>NaN</td>\n",
       "      <td>NaN</td>\n",
       "      <td>NaN</td>\n",
       "      <td>NaN</td>\n",
       "      <td>NaN</td>\n",
       "      <td>NaN</td>\n",
       "      <td>NaN</td>\n",
       "      <td>2.0</td>\n",
       "    </tr>\n",
       "  </tbody>\n",
       "</table>\n",
       "</div>"
      ],
      "text/plain": [
       "   rat   ox  tiger  rabbit  dragon  snake  horse  goat  monkey  rooster  dog  \\\n",
       "0  NaN  3.0    NaN     1.0     NaN    NaN    NaN   NaN     NaN      NaN  NaN   \n",
       "\n",
       "   pig  \n",
       "0  2.0  "
      ]
     },
     "execution_count": 162,
     "metadata": {},
     "output_type": "execute_result"
    }
   ],
   "source": [
    "X_submit = pd.DataFrame([[2345, 8764, 6689, 7332, 1050, 3741, 40]], columns=X_test.columns[:7])\n",
    "X_submit['Is_Raining']=0\n",
    "X_submit['Total_distance']= X_submit.loc[::7].sum(axis=1)\n",
    "\n",
    "pred_rank_m2(X_submit, best_rgg, best_clf)"
   ]
  }
 ],
 "metadata": {
  "kernelspec": {
   "display_name": "Python 3",
   "language": "python",
   "name": "python3"
  },
  "language_info": {
   "codemirror_mode": {
    "name": "ipython",
    "version": 3
   },
   "file_extension": ".py",
   "mimetype": "text/x-python",
   "name": "python",
   "nbconvert_exporter": "python",
   "pygments_lexer": "ipython3",
   "version": "3.6.8"
  }
 },
 "nbformat": 4,
 "nbformat_minor": 1
}
